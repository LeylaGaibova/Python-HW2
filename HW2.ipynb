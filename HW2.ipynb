{
 "cells": [
  {
   "cell_type": "markdown",
   "metadata": {},
   "source": [
    "###### Задание 1. Даны 2 строки: long_phrase и short_phrase. Напишите код, который проверяет действительно ли длинная фраза long_phrase длиннее короткой short_phrase. И выводит True или False в зависимости от результата сравнения."
   ]
  },
  {
   "cell_type": "code",
   "execution_count": 2,
   "metadata": {},
   "outputs": [],
   "source": [
    "long_phrase = 'Насколько проще было бы писать программы, если бы не заказчики'\n",
    "short_phrase = '640Кб должно хватить для любых задач. Билл Гейтс (по легенде)'"
   ]
  },
  {
   "cell_type": "code",
   "execution_count": 3,
   "metadata": {},
   "outputs": [
    {
     "data": {
      "text/plain": [
       "True"
      ]
     },
     "execution_count": 3,
     "metadata": {},
     "output_type": "execute_result"
    }
   ],
   "source": [
    "len(long_phrase) > len(short_phrase)"
   ]
  },
  {
   "cell_type": "markdown",
   "metadata": {},
   "source": [
    "###### Задание 2. Дано значение объема файла в байтах (в мегабайте 2^20 байт). Напишите перевод этого значения в мегабайты в формате: \"Объем файла равен 213.68Mb\"."
   ]
  },
  {
   "cell_type": "code",
   "execution_count": 6,
   "metadata": {},
   "outputs": [
    {
     "name": "stdout",
     "output_type": "stream",
     "text": [
      "Введите объем файла в байтах: 1048576\n",
      "Объем файла равен 1.0 Mb\n"
     ]
    }
   ],
   "source": [
    "baity = input('Введите объем файла в байтах: ')\n",
    "megabaity = int(baity) / 2**20\n",
    "print('Объем файла равен', megabaity, 'Mb')"
   ]
  },
  {
   "cell_type": "markdown",
   "metadata": {},
   "source": [
    "### Задание 3. Разработать приложение для определения знака зодиака по дате рождения. Пример:\n",
    "\n",
    "###### Введите месяц: март\n",
    "\n",
    "###### Введите число: 6\n",
    "\n",
    "###### Вывод: Рыбы\n",
    "\n",
    "###### 21 марта – 20 апреля Овен\n",
    "###### 21 апреля – 21 мая Телец\n",
    "###### 22 мая – 21 июня Близнецы\n",
    "###### 22 июня – 22 июля Рак\n",
    "###### 23 июля – 23 августа Лев\n",
    "###### 24 августа – 22 сентября Дева\n",
    "###### 23 сентября – 22 октября Весы\n",
    "###### 23 октября – 22 ноября Скорпион\n",
    "###### 23 ноября – 21 декабря Стрелец\n",
    "###### 22 декабря – 20 января Козерог\n",
    "###### 21 января – 19 февраля Водолей\n",
    "###### 20 февраля – 20 марта Рыбы"
   ]
  },
  {
   "cell_type": "code",
   "execution_count": 13,
   "metadata": {},
   "outputs": [
    {
     "name": "stdout",
     "output_type": "stream",
     "text": [
      "Введите месяц: ноябрь\n",
      "Введите число: 10\n",
      "Скорпион\n"
     ]
    }
   ],
   "source": [
    "month = input('Введите месяц: ')\n",
    "day = int(input('Введите число: '))\n",
    "if month == ('март'):\n",
    "    if day < 21:\n",
    "      print('Рыбы')\n",
    "    else:\n",
    "      ptint('Овен')\n",
    "if month == ('апрель'):\n",
    "    if day < 21:\n",
    "      print('Овен')\n",
    "    else:\n",
    "      ptint('Телец')\n",
    "if month == ('май'):\n",
    "     if day < 22:\n",
    "      print('Телец')\n",
    "     else:\n",
    "      ptint('Близнецы')   \n",
    "if month == ('июнь'):\n",
    "     if day < 22:\n",
    "      print('Близнецы')\n",
    "     else:\n",
    "      ptint('Рак')    \n",
    "if month == ('июль'):\n",
    "     if day < 23:\n",
    "      print('Рак')\n",
    "     else:\n",
    "      ptint('Лев')      \n",
    "if month == ('август'):\n",
    "     if day < 24:\n",
    "      print('Лев')\n",
    "     else:\n",
    "      ptint('Дева')    \n",
    "if month == ('сентябрь'):\n",
    "     if day < 23:\n",
    "      print('Дева')\n",
    "     else:\n",
    "      ptint('Весы')        \n",
    "if month == ('октябрь'):\n",
    "     if day < 23:\n",
    "      print('Весы')\n",
    "     else:\n",
    "      ptint('Скорпион')      \n",
    "if month == ('ноябрь'):\n",
    "     if day < 23:\n",
    "      print('Скорпион')\n",
    "     else:\n",
    "      ptint('Стрелец')     \n",
    "if month == ('декабрь'):\n",
    "     if day < 22:\n",
    "      print('Стрелец')\n",
    "     else:\n",
    "      ptint('Козерог')   \n",
    "if month == ('январь'):\n",
    "     if day < 21:\n",
    "      print('Козерог')\n",
    "     else:\n",
    "      ptint('Водолей')     \n",
    "if month == ('февраль'):\n",
    "     if day < 20:\n",
    "      print('Водолей')\n",
    "     else:\n",
    "      ptint('Рыбы')   \n"
   ]
  },
  {
   "cell_type": "markdown",
   "metadata": {},
   "source": [
    "###### Задание 4. Нужно разработать приложение для финансового планирования. Приложение учитывает сколько уходит на ипотеку, \"на жизнь\" и сколько нужно отложить на пенсию. Пользователь вводит:\n",
    "\n",
    "заработанную плату в месяц.\n",
    "сколько процентов от ЗП уходит на ипотеку.\n",
    "сколько процентов от ЗП уходит \"на жизнь\".\n",
    "сколько раз приходит премия в год.\n",
    "Остальная часть заработанной платы откладывается на пенсию.\n",
    "\n",
    "Также пользователю приходит премия в размере зарплаты, от которой половина уходит на отпуск, а вторая половина откладывается.\n",
    "\n",
    "Программа должна учитывать сколько премий было в год.\n",
    "\n",
    "Нужно вывести сколько денег тратит пользователь на ипотеку и сколько он накопит за год.\n",
    "\n",
    "Пример:\n",
    "\n",
    "Введите заработанную плату в месяц: 100000\n",
    "\n",
    "Введите сколько процентов уходит на ипотеку: 30\n",
    "\n",
    "Введите сколько процентов уходит на жизнь: 50\n",
    "\n",
    "Введите количество премий за год: 2\n",
    "\n",
    "Вывод: На ипотеку было потрачено: 360000 рублей Было накоплено: 340000 рублей"
   ]
  },
  {
   "cell_type": "code",
   "execution_count": 35,
   "metadata": {},
   "outputs": [
    {
     "name": "stdout",
     "output_type": "stream",
     "text": [
      "Введите заработанную плату в месяц: 200000\n",
      "Введите сколько процентов уходит на ипотеку: 50\n",
      "Введите сколько процентов уходит на жизнь: 20\n",
      "Введите количество премий за год: 1\n",
      "На ипотеку было потрачено:  1200000  рублей Было накоплено:  820000  рублей\n"
     ]
    }
   ],
   "source": [
    "salary = int(input('Введите заработанную плату в месяц: '))\n",
    "salary_percent_for_morgage = float(input('Введите сколько процентов уходит на ипотеку: '))/100\n",
    "expenses_percent = float(input('Введите сколько процентов уходит на жизнь: '))/100\n",
    "bonus_frequency_per_year = int(input('Введите количество премий за год: '))\n",
    "morgage_per_year = salary * salary_percent_for_morgage * 12\n",
    "savings = salary * bonus_frequency_per_year / 2 + salary * 12 - morgage_per_year - salary * 12 * expenses_percent\n",
    "print ('На ипотеку было потрачено: ', '{:.0f}'.format(morgage_per_year), ' рублей Было накоплено: ', '{:.0f}'.format(savings) ,' рублей')"
   ]
  },
  {
   "cell_type": "code",
   "execution_count": null,
   "metadata": {},
   "outputs": [],
   "source": []
  },
  {
   "cell_type": "code",
   "execution_count": null,
   "metadata": {},
   "outputs": [],
   "source": []
  }
 ],
 "metadata": {
  "kernelspec": {
   "display_name": "Python 3",
   "language": "python",
   "name": "python3"
  },
  "language_info": {
   "codemirror_mode": {
    "name": "ipython",
    "version": 3
   },
   "file_extension": ".py",
   "mimetype": "text/x-python",
   "name": "python",
   "nbconvert_exporter": "python",
   "pygments_lexer": "ipython3",
   "version": "3.7.6"
  }
 },
 "nbformat": 4,
 "nbformat_minor": 4
}
